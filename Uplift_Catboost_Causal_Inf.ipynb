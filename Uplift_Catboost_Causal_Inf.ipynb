{
  "nbformat": 4,
  "nbformat_minor": 0,
  "metadata": {
    "colab": {
      "provenance": []
    },
    "kernelspec": {
      "name": "python3",
      "display_name": "Python 3"
    },
    "language_info": {
      "name": "python"
    }
  },
  "cells": [
    {
      "cell_type": "code",
      "source": [
        "import numpy as np\n",
        "import pandas as pd\n",
        "from catboost import CatBoostClassifier, Pool\n",
        "from sklearn.model_selection import StratifiedKFold\n",
        "from sklearn.metrics import average_precision_score, roc_auc_score\n",
        "from sklift.models import ClassTransformation"
      ],
      "metadata": {
        "id": "HojmDYRyC7Hn"
      },
      "execution_count": null,
      "outputs": []
    },
    {
      "cell_type": "code",
      "source": [
        "\n",
        "# --- Feature engineering for transactions + demographics ---\n",
        "\n",
        "def create_features(df):\n",
        "    df = df.copy()\n",
        "    # Transaction frequency features\n",
        "    df['txns_per_day'] = df.groupby('customer_id')['transaction_id'].transform('count') / df.groupby('customer_id')['transaction_date'].transform(lambda x: (x.max() - x.min()).days + 1)\n",
        "\n",
        "    # Monetary features\n",
        "    df['avg_txn_amount'] = df.groupby('customer_id')['amount'].transform('mean')\n",
        "    df['txn_amount_std'] = df.groupby('customer_id')['amount'].transform('std')\n",
        "\n",
        "    # Recency features\n",
        "    df['days_since_last_txn'] = (df['transaction_date'].max() - df['transaction_date']).dt.days\n",
        "\n",
        "    # Ratio features\n",
        "    df['high_value_txn_ratio'] = (df['amount'] > df['amount'].quantile(0.9)).astype(int)\n",
        "    df['high_value_txn_ratio'] = df.groupby('customer_id')['high_value_txn_ratio'].transform('mean')\n",
        "\n",
        "    # Example demographic & behavioral features\n",
        "    if 'age' in df.columns:\n",
        "        df['is_senior'] = (df['age'] > 60).astype(int)\n",
        "    if 'income' in df.columns:\n",
        "        df['log_income'] = np.log1p(df['income'])\n",
        "    if 'interest_category' in df.columns:\n",
        "        df['interest_category'] = df['interest_category'].astype('category')\n",
        "\n",
        "    df.fillna(0, inplace=True)\n",
        "    return df"
      ],
      "metadata": {
        "id": "s9H6NyUnDGBy"
      },
      "execution_count": null,
      "outputs": []
    },
    {
      "cell_type": "code",
      "execution_count": null,
      "metadata": {
        "id": "G11FaMikqzI8"
      },
      "outputs": [],
      "source": [
        "# Prob. of Customer x1 converting due to a given Policy Change\n",
        "\n",
        "# --- Example uplift modeling pipeline ---\n",
        "# y = binary outcome (e.g., conversion)\n",
        "# treatment = whether customer was exposed to a policy or control group\n",
        "# X = customer features (transaction + demographics)\n",
        "\n",
        "X = create_features(X)\n",
        "categoricals = [c for c in X.columns if X[c].dtype=='object' or str(X[c].dtype).startswith('category')]\n",
        "\n",
        "# CatBoost inside uplift framework\n",
        "cat_model = CatBoostClassifier(\n",
        "    iterations=2000,\n",
        "    depth=6,\n",
        "    learning_rate=0.05,\n",
        "    loss_function='Logloss',\n",
        "    eval_metric='AUC',\n",
        "    random_seed=42,\n",
        "    verbose=False\n",
        ")\n",
        "\n",
        "uplift_model = ClassTransformation(estimator=cat_model)\n",
        "uplift_model.fit(X, y, treatment)\n",
        "\n",
        "uplift_preds = uplift_model.predict(X)\n",
        "\n",
        "print(\"Uplift predictions:\", uplift_preds[:10])\n",
        "\n"
      ]
    },
    {
      "cell_type": "code",
      "source": [
        "\n",
        "# --- Evaluation ---\n",
        "# Use uplift metrics: Qini coefficient, uplift curve\n",
        "# Use cross-validation and compare to baseline classifiers\n",
        "\n",
        "# --- Production strategy ---\n",
        "# 1. Continuously update transaction + behavior data for each customer.\n",
        "# 2. Retrain uplift model monthly/quarterly or when new policy tested.\n",
        "# 3. Track effectiveness with Qini curves in production.\n",
        "# 4. Use MLflow to log experiments.\n",
        "# 5. Deploy via FastAPI/Flask to assign best policy per customer."
      ],
      "metadata": {
        "id": "lYzZ2FwjDMwh"
      },
      "execution_count": null,
      "outputs": []
    }
  ]
}